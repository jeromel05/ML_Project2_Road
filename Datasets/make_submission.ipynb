{
 "cells": [
  {
   "cell_type": "code",
   "execution_count": 1,
   "metadata": {},
   "outputs": [],
   "source": [
    "import numpy as np\n",
    "import os,sys\n",
    "from PIL import Image\n",
    "%load_ext autoreload\n",
    "%autoreload 2\n",
    "\n",
    "import mask_to_submission as msk"
   ]
  },
  {
   "cell_type": "code",
   "execution_count": 2,
   "metadata": {},
   "outputs": [
    {
     "name": "stdout",
     "output_type": "stream",
     "text": [
      "results_Unet/test_image_1.png\n",
      "results_Unet/test_image_2.png\n",
      "results_Unet/test_image_3.png\n",
      "results_Unet/test_image_4.png\n",
      "results_Unet/test_image_5.png\n",
      "results_Unet/test_image_6.png\n",
      "results_Unet/test_image_7.png\n",
      "results_Unet/test_image_8.png\n",
      "results_Unet/test_image_9.png\n",
      "results_Unet/test_image_10.png\n",
      "results_Unet/test_image_11.png\n",
      "results_Unet/test_image_12.png\n",
      "results_Unet/test_image_13.png\n",
      "results_Unet/test_image_14.png\n",
      "results_Unet/test_image_15.png\n",
      "results_Unet/test_image_16.png\n",
      "results_Unet/test_image_17.png\n",
      "results_Unet/test_image_18.png\n",
      "results_Unet/test_image_19.png\n",
      "results_Unet/test_image_20.png\n",
      "results_Unet/test_image_21.png\n",
      "results_Unet/test_image_22.png\n",
      "results_Unet/test_image_23.png\n",
      "results_Unet/test_image_24.png\n",
      "results_Unet/test_image_25.png\n",
      "results_Unet/test_image_26.png\n",
      "results_Unet/test_image_27.png\n",
      "results_Unet/test_image_28.png\n",
      "results_Unet/test_image_29.png\n",
      "results_Unet/test_image_30.png\n",
      "results_Unet/test_image_31.png\n",
      "results_Unet/test_image_32.png\n",
      "results_Unet/test_image_33.png\n",
      "results_Unet/test_image_34.png\n",
      "results_Unet/test_image_35.png\n",
      "results_Unet/test_image_36.png\n",
      "results_Unet/test_image_37.png\n",
      "results_Unet/test_image_38.png\n",
      "results_Unet/test_image_39.png\n",
      "results_Unet/test_image_40.png\n",
      "results_Unet/test_image_41.png\n",
      "results_Unet/test_image_42.png\n",
      "results_Unet/test_image_43.png\n",
      "results_Unet/test_image_44.png\n",
      "results_Unet/test_image_45.png\n",
      "results_Unet/test_image_46.png\n",
      "results_Unet/test_image_47.png\n",
      "results_Unet/test_image_48.png\n",
      "results_Unet/test_image_49.png\n",
      "results_Unet/test_image_50.png\n"
     ]
    }
   ],
   "source": [
    "submission_filename = 'submission.csv'\n",
    "image_filenames = []\n",
    "for i in range(1, 51):\n",
    "    #image_filename = 'results1/test_image_' + '%.1d' % i + '.png'\n",
    "    image_filename = 'results_Unet/test_image_' + '%.1d' % i + '.png'\n",
    "    print(image_filename)\n",
    "    image_filenames.append(image_filename)"
   ]
  },
  {
   "cell_type": "code",
   "execution_count": 28,
   "metadata": {},
   "outputs": [
    {
     "name": "stdout",
     "output_type": "stream",
     "text": [
      "1\n",
      "2\n",
      "3\n",
      "4\n",
      "5\n",
      "6\n",
      "7\n",
      "8\n",
      "9\n",
      "10\n",
      "11\n",
      "12\n",
      "13\n",
      "14\n",
      "15\n",
      "16\n",
      "17\n",
      "18\n",
      "19\n",
      "20\n",
      "21\n",
      "22\n",
      "23\n",
      "24\n",
      "25\n",
      "26\n",
      "27\n",
      "28\n",
      "29\n",
      "30\n",
      "31\n",
      "32\n",
      "33\n",
      "34\n",
      "35\n",
      "36\n",
      "37\n",
      "38\n",
      "39\n",
      "40\n",
      "41\n",
      "42\n",
      "43\n",
      "44\n",
      "45\n",
      "46\n",
      "47\n",
      "48\n",
      "49\n",
      "50\n"
     ]
    }
   ],
   "source": [
    "msk.masks_to_submission(submission_filename, *image_filenames)"
   ]
  },
  {
   "cell_type": "code",
   "execution_count": null,
   "metadata": {},
   "outputs": [],
   "source": []
  },
  {
   "cell_type": "code",
   "execution_count": null,
   "metadata": {},
   "outputs": [],
   "source": []
  }
 ],
 "metadata": {
  "kernelspec": {
   "display_name": "Python 3",
   "language": "python",
   "name": "python3"
  },
  "language_info": {
   "codemirror_mode": {
    "name": "ipython",
    "version": 3
   },
   "file_extension": ".py",
   "mimetype": "text/x-python",
   "name": "python",
   "nbconvert_exporter": "python",
   "pygments_lexer": "ipython3",
   "version": "3.7.4"
  }
 },
 "nbformat": 4,
 "nbformat_minor": 2
}
