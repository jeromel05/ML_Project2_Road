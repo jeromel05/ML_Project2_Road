{
 "cells": [
  {
   "cell_type": "code",
   "execution_count": null,
   "metadata": {},
   "outputs": [],
   "source": [
    "\n",
    "def calculate_f1_score(actual, predictions):\n",
    "    \n",
    "    total_predicted_positives = predictions.sum()\n",
    "    total_actual_positives = predictions.sum()\n",
    "    true_positives = (actual*predictions).sum()\n",
    "    \n",
    "    precision = true_positives/total_predicted_positives\n",
    "    recall = true_positives/total_actual_positives\n",
    "    \n",
    "    f1_score = 2 * ( precision * recall )/( precision + recall )\n",
    "    \n",
    "    return f1_score\n",
    "    \n",
    "    "
   ]
  }
 ],
 "metadata": {
  "kernelspec": {
   "display_name": "Python 3",
   "language": "python",
   "name": "python3"
  },
  "language_info": {
   "codemirror_mode": {
    "name": "ipython",
    "version": 3
   },
   "file_extension": ".py",
   "mimetype": "text/x-python",
   "name": "python",
   "nbconvert_exporter": "python",
   "pygments_lexer": "ipython3",
   "version": "3.7.3"
  }
 },
 "nbformat": 4,
 "nbformat_minor": 2
}
