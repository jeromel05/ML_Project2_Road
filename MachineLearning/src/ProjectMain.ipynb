{
 "cells": [
  {
   "cell_type": "code",
   "execution_count": 1,
   "metadata": {},
   "outputs": [],
   "source": [
    "%matplotlib inline\n",
    "import cv2\n",
    "import os,sys\n",
    "import pickle\n",
    "import scipy.stats\n",
    "import sklearn.metrics\n",
    "\n",
    "import matplotlib\n",
    "import matplotlib.image as mpimg\n",
    "import matplotlib.cm as cm # To color dots of scatter plots\n",
    "import numpy as np\n",
    "import matplotlib.pyplot as plt\n",
    "import pandas as pd\n",
    "import seaborn as sns\n",
    "\n",
    "from skimage.feature import hog\n",
    "from scipy.stats import norm\n",
    "from sklearn import preprocessing\n",
    "from itertools import combinations\n",
    "from PIL import Image\n",
    "\n",
    "from sklearn.metrics import mean_squared_error\n",
    "from sklearn.linear_model import Ridge\n",
    "from sklearn.linear_model import RidgeCV\n",
    "from sklearn.linear_model import LinearRegression\n",
    "from sklearn.model_selection import cross_validate\n",
    "from sklearn.model_selection import cross_val_score\n",
    "from sklearn.model_selection import train_test_split\n",
    "from sklearn.decomposition import PCA\n",
    "\n",
    "%load_ext autoreload\n",
    "%autoreload 2"
   ]
  },
  {
   "cell_type": "code",
   "execution_count": 176,
   "metadata": {},
   "outputs": [],
   "source": [
    "import sys\n",
    "sys.path.insert(1, './utilities/')\n",
    "\n",
    "from utility_functions import *"
   ]
  },
  {
   "cell_type": "markdown",
   "metadata": {},
   "source": [
    "# Load the Data"
   ]
  },
  {
   "cell_type": "code",
   "execution_count": 3,
   "metadata": {},
   "outputs": [
    {
     "name": "stdout",
     "output_type": "stream",
     "text": [
      "Loading 20 images\n",
      "satImage_052.png\n",
      "Loading 20 images\n",
      "satImage_052.png\n"
     ]
    }
   ],
   "source": [
    "# Loaded a set of images\n",
    "root_dir = \"../../Datasets/training/\"\n",
    "\n",
    "image_dir = root_dir + \"images/\"\n",
    "files = os.listdir(image_dir)\n",
    "n = min(20, len(files)) # Load maximum 20 images\n",
    "print(\"Loading \" + str(n) + \" images\")\n",
    "imgs = [load_image(image_dir + files[i]) for i in range(n)]\n",
    "print(files[0])\n",
    "\n",
    "gt_dir = root_dir + \"groundtruth/\"\n",
    "print(\"Loading \" + str(n) + \" images\")\n",
    "gt_imgs = [load_image(gt_dir + files[i]) for i in range(n)]\n",
    "print(files[0])"
   ]
  },
  {
   "cell_type": "markdown",
   "metadata": {},
   "source": [
    "# Data Preprocessing"
   ]
  },
  {
   "cell_type": "markdown",
   "metadata": {},
   "source": [
    "## Split the images into smaller patches"
   ]
  },
  {
   "cell_type": "code",
   "execution_count": 4,
   "metadata": {},
   "outputs": [],
   "source": [
    "n = 10 # Only use 10 images for training\n",
    "# Extract patches from input images\n",
    "# size = 10(nb_images)*625(n_patches_per_image)*16*16(size_patch)*3(nb_channels)\n",
    "patch_size = 16  # each patch is 16*16 pixels\n",
    "\n",
    "img_patches = [img_crop(imgs[i], patch_size, patch_size) for i in range(n)]\n",
    "gt_patches = [img_crop(gt_imgs[i], patch_size, patch_size) for i in range(n)]\n",
    "\n",
    "# Linearize list of patches\n",
    "img_patches = np.asarray([img_patches[i][j] for i in range(len(img_patches)) for j in range(len(img_patches[i]))])\n",
    "gt_patches =  np.asarray([gt_patches[i][j] for i in range(len(gt_patches)) for j in range(len(gt_patches[i]))])\n",
    "#return array of size 6250 containing all the 625 patches for all the 10 training images\n",
    "#gt has only 0 or 1 values\n",
    "#img has an rgb value of size 3 for each point"
   ]
  },
  {
   "cell_type": "markdown",
   "metadata": {},
   "source": [
    "# Extraction of Features from the images"
   ]
  },
  {
   "cell_type": "code",
   "execution_count": 159,
   "metadata": {},
   "outputs": [],
   "source": [
    "def threshold_eroded_img(img):\n",
    "    img = rgb2gray(img)\n",
    "    #plt.imshow(img)\n",
    "    #plt.show()\n",
    "    img = img_float_to_uint8(img)\n",
    "    ret,thresh1 = cv2.threshold(img,70,255,cv2.THRESH_BINARY)\n",
    "    #plt.imshow(thresh1)\n",
    "    #plt.show()\n",
    "    kernel = np.ones((3,3),np.uint8)\n",
    "    erosion = cv2.erode(thresh1,kernel,iterations = 1)\n",
    "    dilated = cv2.dilate(erosion,kernel,iterations = 1)\n",
    "    #plt.imshow(dilated)\n",
    "    #plt.show()\n",
    "    \n",
    "    #find all your connected components (white blobs in your image)\n",
    "    nb_components, output, stats, centroids = cv2.connectedComponentsWithStats(dilated, connectivity=8)\n",
    "    sizes = stats[1:, -1]; nb_components = nb_components - 1\n",
    "\n",
    "    #here, it's a fixed value, but you can set it as you want, eg the mean of the sizes or whatever\n",
    "    min_size = 1300  \n",
    "\n",
    "    #your answer image\n",
    "    img2 = np.zeros((output.shape))\n",
    "    #for every component in the image, you keep it only if it's above min_size\n",
    "    for i in range(0, nb_components):\n",
    "        if sizes[i] >= min_size:\n",
    "            img2[output == i + 1] = 255\n",
    "    #plt.imshow(img2)\n",
    "    #plt.show()\n",
    "        \n",
    "    feat_vert = np.sum(erosion, axis=1) / 255 / erosion.shape[1]\n",
    "    feat_hori = np.sum(erosion, axis=0) / 255 / erosion.shape[0]\n",
    "    \n",
    "    feat_vert[feat_vert < 0.35] = 0\n",
    "    feat_hori[feat_hori < 0.35] = 0\n",
    "    #plt.bar(range(erosion.shape[0]), feat_hori)\n",
    "    #plt.bar(range(erosion.shape[0]), feat_vert)\n",
    "    #plt.show()\n",
    "    return np.hstack((feat_vert,feat_hori))\n",
    "\n",
    "res =threshold_eroded_img(imgs[3])"
   ]
  },
  {
   "cell_type": "code",
   "execution_count": 161,
   "metadata": {},
   "outputs": [
    {
     "data": {
      "text/plain": [
       "array([[0.        , 0.        , 0.        , ..., 0.        , 0.        ,\n",
       "        0.        ],\n",
       "       [0.        , 0.00891252, 0.02937   , ..., 0.03056435, 0.        ,\n",
       "        0.        ],\n",
       "       [0.        , 0.03696758, 0.0165101 , ..., 0.02280518, 0.00519546,\n",
       "        0.        ],\n",
       "       ...,\n",
       "       [0.        , 0.02844387, 0.02762106, ..., 0.01024096, 0.00403496,\n",
       "        0.        ],\n",
       "       [0.        , 0.        , 0.        , ..., 0.        , 0.        ,\n",
       "        0.        ],\n",
       "       [0.        , 0.        , 0.        , ..., 0.        , 0.        ,\n",
       "        0.        ]])"
      ]
     },
     "execution_count": 161,
     "metadata": {},
     "output_type": "execute_result"
    }
   ],
   "source": [
    "#a faire sur l'image entière plutot\n",
    "def hog_features(image):\n",
    "    #histogram of oriented gradients\n",
    "    grey_bombus = rgb2gray(image)\n",
    "    hog_features, hog_image = hog(grey_bombus,\n",
    "                              visualize=True,\n",
    "                              block_norm='L2-Hys',\n",
    "                              pixels_per_cell=(5,5))\n",
    "        \n",
    "    #plt.imshow(hog_image, cmap=cm.gray)\n",
    "    return hog_image\n",
    "\n",
    "hog_features(imgs[3])"
   ]
  },
  {
   "cell_type": "code",
   "execution_count": 162,
   "metadata": {},
   "outputs": [
    {
     "name": "stdout",
     "output_type": "stream",
     "text": [
      "[2.36089089e-03 1.31989277e-09 2.95904967e-12 7.73801105e-12\n",
      " 4.66044940e-24 9.55746477e-17 3.67326717e-23]\n",
      "[ 1.88039899e-04  9.03837665e+02  7.84923668e-01  2.10103189e+03\n",
      "  1.20263066e-01  1.40146298e+02  7.50028990e+03  8.21881821e+00\n",
      "  1.34113709e+01  1.30991713e-04  5.49662066e+00 -1.61067899e-01\n",
      "  9.45007905e-01]\n"
     ]
    }
   ],
   "source": [
    "#3 new features\n",
    "import mahotas\n",
    "\n",
    "def fd_hu_moments(image):\n",
    "    image = img_float_to_uint8(image)\n",
    "    image = cv2.cvtColor(image, cv2.COLOR_BGR2GRAY)\n",
    "    feature = cv2.HuMoments(cv2.moments(image)).flatten()\n",
    "    return feature\n",
    "def fd_haralick(image):    # convert the image to grayscale\n",
    "    image = img_float_to_uint8(image)\n",
    "    gray = cv2.cvtColor(image, cv2.COLOR_BGR2GRAY)\n",
    "    # compute the haralick texture feature vector\n",
    "    haralick = mahotas.features.haralick(gray).mean(axis=0)\n",
    "    return haralick\n",
    " \n",
    "#fd hist ne marche pas encore\n",
    "def fd_histogram(image, mask=None):\n",
    "    image = img_float_to_uint8(image)\n",
    "    # convert the image to HSV color-space\n",
    "    image = cv2.cvtColor(image, cv2.COLOR_BGR2HSV)\n",
    "    # compute the color histogram\n",
    "    # documentation: cv.calcHist(images, channels, mask, histSize, ranges[, hist[, accumulate]])\n",
    "    hist  = cv2.calcHist([image], [0, 1, 2], None, [3, 3, 3], [0, 256, 0, 256, 0, 256])\n",
    "    # normalize the histogram\n",
    "    cv2.normalize(hist, hist)\n",
    "    hist.flatten()\n",
    "    \n",
    "print(fd_hu_moments(imgs[3]))\n",
    "print(fd_haralick(imgs[3]) ) "
   ]
  },
  {
   "cell_type": "code",
   "execution_count": 163,
   "metadata": {},
   "outputs": [],
   "source": [
    "#Features definition\n",
    "def features_definition(img_patches):\n",
    "    print(\"compute X1\")\n",
    "    X1 = np.asarray([ extract_features(img_patches[i]) for i in range(len(img_patches))]) # dim 6\n",
    "    print(\"Added dims: \" + str(X1.shape[1]))\n",
    "    X2 = np.asarray([ laplace_gaussian_edge_detection(img_patches[i]) for i in range(len(img_patches))]) # dim 32\n",
    "    print(\"Added dims: \" + str(X2.shape[1]))\n",
    "    X3 = np.asarray([ horizontal_and_vertical_edge_detection(img_patches[i]) for i in range(len(img_patches))]) # dim 32\n",
    "    print(\"Added dims: \" + str(X3.shape[1]))\n",
    "    X4 = np.asarray([ get_grey_features(get_gray_mask(img_patches[i])) for i in range(len(img_patches))]) # dim 32\n",
    "    #X4 = np.asarray([ get_gray_mask(img_patches[i]).ravel() for i in range(len(img_patches))]) # dim 16 * 16\n",
    "    print(\"Added dims: \" + str(X4.shape[1]))\n",
    "    X5 = np.asarray([ threshold_eroded_img(img_patches[i]) for i in range(len(img_patches))]) # dim 32\n",
    "    print(\"Added dims: \" + str(X5.shape[1]))\n",
    "    X6 = np.asarray([ fd_hu_moments(img_patches[i]) for i in range(len(img_patches))]) # dim 7\n",
    "    print(\"Added dims: \" + str(X6.shape[1]))\n",
    "    X7 = np.asarray([ fd_haralick(img_patches[i]) for i in range(len(img_patches))]) # dim 13\n",
    "    print(\"Added dims: \" + str(X7.shape[1]))\n",
    "    X8 = np.asarray([ hog_features(img_patches[i]).ravel() for i in range(len(img_patches))]) # dim 16 * 16\n",
    "    print(\"Added dims: \" + str(X8.shape[1]))\n",
    "    print(\"stop\")\n",
    "    X = np.concatenate((X1,X2,X3,X4,X6,X7,X8),axis=1) # dim 402\n",
    "    #X = feature_expansion(X,4) # dim = dim * degree\n",
    "    X = feature_interaction(X) # dim = dim**2\n",
    "    X = add_offset(X) # dim = dim + 1\n",
    "    print(X.shape)\n",
    "\n",
    "    return X"
   ]
  },
  {
   "cell_type": "code",
   "execution_count": 164,
   "metadata": {},
   "outputs": [
    {
     "name": "stdout",
     "output_type": "stream",
     "text": [
      "compute X1\n",
      "Added dims: 6\n",
      "Added dims: 32\n",
      "Added dims: 32\n",
      "Added dims: 32\n",
      "Added dims: 32\n",
      "Added dims: 7\n",
      "Added dims: 13\n",
      "Added dims: 256\n",
      "stop\n",
      "(6250, 379)\n"
     ]
    }
   ],
   "source": [
    "X = features_definition(img_patches)"
   ]
  },
  {
   "cell_type": "code",
   "execution_count": 193,
   "metadata": {},
   "outputs": [],
   "source": [
    "#normalization\n",
    "scaler = preprocessing.MinMaxScaler()\n",
    "scaler.fit(X)\n",
    "X_scaled = scaler.transform(X)"
   ]
  },
  {
   "cell_type": "markdown",
   "metadata": {},
   "source": [
    "### Definition of the output y"
   ]
  },
  {
   "cell_type": "code",
   "execution_count": 166,
   "metadata": {},
   "outputs": [],
   "source": [
    "### Definition of two classes for the patches\n",
    "\n",
    "# Compute features for each image patch\n",
    "foreground_threshold = 0.25 # percentage of pixels > 1 required to assign a foreground label to a patch\n",
    "\n",
    "def value_to_class(v):\n",
    "    df = np.sum(v)\n",
    "    if df > foreground_threshold:\n",
    "        return 1\n",
    "    else:\n",
    "        return 0\n",
    "\n",
    "#the class foreground has a bit of road in it (25% min)\n",
    "Y = np.asarray([value_to_class(np.mean(gt_patches[i])) for i in range(len(gt_patches))])"
   ]
  },
  {
   "cell_type": "markdown",
   "metadata": {},
   "source": [
    "### Statistics on computed features "
   ]
  },
  {
   "cell_type": "code",
   "execution_count": 194,
   "metadata": {},
   "outputs": [
    {
     "name": "stdout",
     "output_type": "stream",
     "text": [
      "Computed 6250 features\n",
      "Feature dimension = 143641\n",
      "Number of classes = 1\n",
      "Class 0: 4915 samples\n",
      "Class 1: 1335 samples\n"
     ]
    }
   ],
   "source": [
    "# Print feature statistics\n",
    "print('Computed ' + str(X.shape[0]) + ' features')\n",
    "print('Feature dimension = ' + str(X.shape[1]))\n",
    "print('Number of classes = ' + str(np.max(Y)))  #TODO: fix, length(unique(Y)) \n",
    "\n",
    "Y0 = [i for i, j in enumerate(Y) if j == 0]\n",
    "Y1 = [i for i, j in enumerate(Y) if j == 1]\n",
    "print('Class 0: ' + str(len(Y0)) + ' samples')\n",
    "print('Class 1: ' + str(len(Y1)) + ' samples')"
   ]
  },
  {
   "cell_type": "code",
   "execution_count": null,
   "metadata": {},
   "outputs": [],
   "source": [
    "def hist_of_features(X):\n",
    "    \"\"\"\n",
    "    performs a histogram of the distribution of all the parameters in the dataset \n",
    "    parameters:\n",
    "        X: the dataset to plot\n",
    "    \"\"\"\n",
    "    n = X.shape[1]\n",
    "    fig, ax = plt.subplots(4,5)\n",
    "\n",
    "    for i in range(4):\n",
    "        for j in range(5):\n",
    "            ax[i,j].hist(X[:,i+j], bins = 30)\n",
    "            ax[i,j].set_title(i+j,fontsize=40)\n",
    "        \n",
    "    fig.set_figheight(150)\n",
    "    fig.set_figwidth(150)\n",
    "    plt.suptitle(\"Distribution of all the features\",fontsize=150)\n",
    "    plt.tight_layout()\n",
    "    fig.subplots_adjust(top=0.92)\n",
    "    plt.show()\n",
    "    \n",
    "hist_of_features(X)"
   ]
  },
  {
   "cell_type": "markdown",
   "metadata": {},
   "source": [
    "## PCA and Plots"
   ]
  },
  {
   "cell_type": "code",
   "execution_count": 195,
   "metadata": {},
   "outputs": [
    {
     "name": "stdout",
     "output_type": "stream",
     "text": [
      "[9.90520631e-01 9.28630029e-03 1.92965816e-04 7.26973361e-08\n",
      " 1.78683753e-08 2.30121449e-09 1.85292239e-09 9.23836982e-10\n",
      " 9.06361477e-10 5.92138951e-10] (300, 6250)\n"
     ]
    },
    {
     "data": {
      "image/png": "[encoded data removed]",
      "text/plain": [
       "<Figure size 432x288 with 1 Axes>"
      ]
     },
     "metadata": {
      "needs_background": "light"
     },
     "output_type": "display_data"
    }
   ],
   "source": [
    "pca = PCA(n_components=300)\n",
    "pca.fit(X.T)  \n",
    "colors = ['c' if yi else 'm' for yi in Y]\n",
    "print(pca.explained_variance_ratio_[:10], pca.components_.shape)  \n",
    "plt.scatter(pca.components_[0],Y, s=20, c=colors)\n",
    "#first component explains 99% variance -> but still no clear separation between y1 and y0\n",
    "    \n",
    "plt.show()"
   ]
  },
  {
   "cell_type": "code",
   "execution_count": 199,
   "metadata": {},
   "outputs": [
    {
     "name": "stderr",
     "output_type": "stream",
     "text": [
      "/opt/anaconda3/lib/python3.7/site-packages/ipykernel_launcher.py:1: RuntimeWarning: invalid value encountered in log\n",
      "  \"\"\"Entry point for launching an IPython kernel.\n"
     ]
    },
    {
     "name": "stdout",
     "output_type": "stream",
     "text": [
      "0.010600244004293331 4.763482704944325e-05\n",
      "(array([], dtype=int64),) (6250,)\n"
     ]
    },
    {
     "data": {
      "image/png": "[encoded data removed]",
      "text/plain": [
       "<Figure size 432x288 with 1 Axes>"
      ]
     },
     "metadata": {
      "needs_background": "light"
     },
     "output_type": "display_data"
    }
   ],
   "source": [
    "plt.scatter(np.log(pca.components_[0]),np.log(pca.components_[1]), s=10, c=colors)\n",
    "print(np.mean(pca.components_[0]), np.var(pca.components_[0]))\n",
    "print(np.where(pca.components_[1] > 0.1), pca.components_[0].shape)"
   ]
  },
  {
   "cell_type": "markdown",
   "metadata": {},
   "source": [
    "# Training of the model"
   ]
  },
  {
   "cell_type": "code",
   "execution_count": 168,
   "metadata": {},
   "outputs": [
    {
     "name": "stdout",
     "output_type": "stream",
     "text": [
      "0.7864 0.2136\n"
     ]
    }
   ],
   "source": [
    "#define parameters\n",
    "proportion_class0 = (len(Y0)) / (len(Y))\n",
    "proportion_class1 = (len(Y1)) / (len(Y))\n",
    "print(proportion_class0,proportion_class1)\n",
    "weight = {0:proportion_class1, 1:proportion_class0}"
   ]
  },
  {
   "cell_type": "markdown",
   "metadata": {},
   "source": [
    "## 1) Logistic regression"
   ]
  },
  {
   "cell_type": "code",
   "execution_count": null,
   "metadata": {},
   "outputs": [],
   "source": [
    "# train a logistic regression classifier\n",
    "from sklearn import linear_model\n",
    "import time\n",
    "\n",
    "# we create an instance of the classifier and fit the data\n",
    "logreg = linear_model.LogisticRegression(C=1e4,solver='liblinear',penalty='l1',class_weight=weight,verbose=3)\n",
    "# Run the estimation\n",
    "start = time.time()\n",
    "logreg.fit(pca.components_.T, Y)\n",
    "stop = time.time()\n",
    "print(stop - start)"
   ]
  },
  {
   "cell_type": "code",
   "execution_count": null,
   "metadata": {},
   "outputs": [],
   "source": [
    "print(X.shape)"
   ]
  },
  {
   "cell_type": "code",
   "execution_count": null,
   "metadata": {},
   "outputs": [],
   "source": [
    "# Predict on the training set\n",
    "Z = logreg.predict(pca.components_.T)"
   ]
  },
  {
   "cell_type": "code",
   "execution_count": null,
   "metadata": {},
   "outputs": [],
   "source": [
    "#Best score yet: 0.230769"
   ]
  },
  {
   "cell_type": "markdown",
   "metadata": {},
   "source": [
    "## 2) SVM"
   ]
  },
  {
   "cell_type": "code",
   "execution_count": 200,
   "metadata": {},
   "outputs": [
    {
     "name": "stdout",
     "output_type": "stream",
     "text": [
      "[LibSVM]"
     ]
    },
    {
     "data": {
      "text/plain": [
       "SVC(C=10, cache_size=200, class_weight={0: 0.2136, 1: 0.7864}, coef0=0.0,\n",
       "    decision_function_shape='ovr', degree=4, gamma='scale', kernel='rbf',\n",
       "    max_iter=-1, probability=False, random_state=None, shrinking=True,\n",
       "    tol=0.001, verbose=True)"
      ]
     },
     "execution_count": 200,
     "metadata": {},
     "output_type": "execute_result"
    }
   ],
   "source": [
    "#in general the SVM performs better than the LogReg model\n",
    "from sklearn import svm\n",
    "#pca.components_.T\n",
    "\n",
    "clf = svm.SVC(C=10, cache_size=200, class_weight=weight, coef0=0.0,\n",
    "    decision_function_shape='ovr', degree=4, gamma='scale', kernel='rbf',\n",
    "    max_iter=-1, probability=False, random_state=None, shrinking=True,\n",
    "    tol=0.001, verbose=True)\n",
    "clf.fit(pca.components_.T, Y)  "
   ]
  },
  {
   "cell_type": "code",
   "execution_count": 201,
   "metadata": {},
   "outputs": [],
   "source": [
    "# Predict on the training set\n",
    "Z = clf.predict(pca.components_.T)"
   ]
  },
  {
   "cell_type": "markdown",
   "metadata": {},
   "source": [
    "## Model evaluation"
   ]
  },
  {
   "cell_type": "code",
   "execution_count": 202,
   "metadata": {},
   "outputs": [
    {
     "data": {
      "text/plain": [
       "0.9319298245614036"
      ]
     },
     "execution_count": 202,
     "metadata": {},
     "output_type": "execute_result"
    }
   ],
   "source": [
    "#F1 Score\n",
    "calculate_f1_score(Y,Z)"
   ]
  },
  {
   "cell_type": "code",
   "execution_count": 203,
   "metadata": {},
   "outputs": [
    {
     "name": "stdout",
     "output_type": "stream",
     "text": [
      "0.96896\n"
     ]
    }
   ],
   "source": [
    "#accuracy\n",
    "print(np.sum(Z==Y)/ Z.shape[0])"
   ]
  },
  {
   "cell_type": "code",
   "execution_count": 209,
   "metadata": {},
   "outputs": [
    {
     "name": "stdout",
     "output_type": "stream",
     "text": [
      "Loading 10 images\n",
      "Loading ['test_1.png']\n",
      "Loading ['test_2.png']\n",
      "Loading ['test_3.png']\n",
      "Loading ['test_4.png']\n",
      "Loading ['test_5.png']\n",
      "Loading ['test_6.png']\n",
      "Loading ['test_7.png']\n",
      "Loading ['test_8.png']\n",
      "Loading ['test_9.png']\n"
     ]
    }
   ],
   "source": [
    "# Loaded a set of images\n",
    "root_dir_test = \"../../Datasets/test_set_images/test_\"\n",
    "\n",
    "n=10\n",
    "print(\"Loading \" + str(n) + \" images\")\n",
    "test_imgs = []\n",
    "for i in range(n-1):\n",
    "    image_dir_test = root_dir + str(i+1) + \"/\"\n",
    "    file = os.listdir(image_dir)\n",
    "    print(\"Loading \" + str(file))\n",
    "    imgs.append(load_image(image_dir + file[0]))"
   ]
  },
  {
   "cell_type": "code",
   "execution_count": null,
   "metadata": {},
   "outputs": [],
   "source": []
  },
  {
   "cell_type": "markdown",
   "metadata": {},
   "source": [
    "# Display of results"
   ]
  },
  {
   "cell_type": "code",
   "execution_count": 210,
   "metadata": {},
   "outputs": [
    {
     "ename": "FileNotFoundError",
     "evalue": "[Errno 2] No such file or directory: '../../Datasets/test_set_images/test_9/satImage_092.png'",
     "output_type": "error",
     "traceback": [
      "\u001b[0;31m---------------------------------------------------------------------------\u001b[0m",
      "\u001b[0;31mFileNotFoundError\u001b[0m                         Traceback (most recent call last)",
      "\u001b[0;32m<ipython-input-210-d1620ee27071>\u001b[0m in \u001b[0;36m<module>\u001b[0;34m\u001b[0m\n\u001b[1;32m      1\u001b[0m \u001b[0mimg_idx\u001b[0m \u001b[0;34m=\u001b[0m \u001b[0;36m12\u001b[0m\u001b[0;34m\u001b[0m\u001b[0;34m\u001b[0m\u001b[0m\n\u001b[1;32m      2\u001b[0m \u001b[0;34m\u001b[0m\u001b[0m\n\u001b[0;32m----> 3\u001b[0;31m \u001b[0mXi\u001b[0m \u001b[0;34m=\u001b[0m \u001b[0mextract_img_features\u001b[0m\u001b[0;34m(\u001b[0m\u001b[0mimage_dir\u001b[0m \u001b[0;34m+\u001b[0m \u001b[0mfiles\u001b[0m\u001b[0;34m[\u001b[0m\u001b[0mimg_idx\u001b[0m\u001b[0;34m]\u001b[0m\u001b[0;34m,\u001b[0m\u001b[0mpatch_size\u001b[0m\u001b[0;34m)\u001b[0m\u001b[0;34m\u001b[0m\u001b[0;34m\u001b[0m\u001b[0m\n\u001b[0m\u001b[1;32m      4\u001b[0m \u001b[0mZi\u001b[0m \u001b[0;34m=\u001b[0m \u001b[0mclf\u001b[0m\u001b[0;34m.\u001b[0m\u001b[0mpredict\u001b[0m\u001b[0;34m(\u001b[0m\u001b[0mXi\u001b[0m\u001b[0;34m)\u001b[0m\u001b[0;34m\u001b[0m\u001b[0;34m\u001b[0m\u001b[0m\n\u001b[1;32m      5\u001b[0m \u001b[0mplt\u001b[0m\u001b[0;34m.\u001b[0m\u001b[0mscatter\u001b[0m\u001b[0;34m(\u001b[0m\u001b[0mXi\u001b[0m\u001b[0;34m[\u001b[0m\u001b[0;34m:\u001b[0m\u001b[0;34m,\u001b[0m \u001b[0;36m1\u001b[0m\u001b[0;34m]\u001b[0m\u001b[0;34m,\u001b[0m \u001b[0mXi\u001b[0m\u001b[0;34m[\u001b[0m\u001b[0;34m:\u001b[0m\u001b[0;34m,\u001b[0m \u001b[0;36m10\u001b[0m\u001b[0;34m]\u001b[0m\u001b[0;34m,\u001b[0m \u001b[0mc\u001b[0m\u001b[0;34m=\u001b[0m\u001b[0mZi\u001b[0m\u001b[0;34m,\u001b[0m \u001b[0medgecolors\u001b[0m\u001b[0;34m=\u001b[0m\u001b[0;34m'k'\u001b[0m\u001b[0;34m,\u001b[0m \u001b[0mcmap\u001b[0m\u001b[0;34m=\u001b[0m\u001b[0mplt\u001b[0m\u001b[0;34m.\u001b[0m\u001b[0mcm\u001b[0m\u001b[0;34m.\u001b[0m\u001b[0mPaired\u001b[0m\u001b[0;34m)\u001b[0m\u001b[0;34m\u001b[0m\u001b[0;34m\u001b[0m\u001b[0m\n",
      "\u001b[0;32m~/Documents/EPFL/MA1/Machine Learning/Projet 2/ML_Project2_Road/MachineLearning/src/utilities/utility_functions.py\u001b[0m in \u001b[0;36mextract_img_features\u001b[0;34m(filename, patch_size)\u001b[0m\n\u001b[1;32m    110\u001b[0m \u001b[0;31m# Extract features for a given image, used at the end for visual comparison\u001b[0m\u001b[0;34m\u001b[0m\u001b[0;34m\u001b[0m\u001b[0;34m\u001b[0m\u001b[0m\n\u001b[1;32m    111\u001b[0m \u001b[0;32mdef\u001b[0m \u001b[0mextract_img_features\u001b[0m\u001b[0;34m(\u001b[0m\u001b[0mfilename\u001b[0m\u001b[0;34m,\u001b[0m \u001b[0mpatch_size\u001b[0m\u001b[0;34m)\u001b[0m\u001b[0;34m:\u001b[0m\u001b[0;34m\u001b[0m\u001b[0;34m\u001b[0m\u001b[0m\n\u001b[0;32m--> 112\u001b[0;31m     \u001b[0mimg\u001b[0m \u001b[0;34m=\u001b[0m \u001b[0mload_image\u001b[0m\u001b[0;34m(\u001b[0m\u001b[0mfilename\u001b[0m\u001b[0;34m)\u001b[0m\u001b[0;34m\u001b[0m\u001b[0;34m\u001b[0m\u001b[0m\n\u001b[0m\u001b[1;32m    113\u001b[0m     \u001b[0mimg_patches\u001b[0m \u001b[0;34m=\u001b[0m \u001b[0mimg_crop\u001b[0m\u001b[0;34m(\u001b[0m\u001b[0mimg\u001b[0m\u001b[0;34m,\u001b[0m \u001b[0mpatch_size\u001b[0m\u001b[0;34m,\u001b[0m \u001b[0mpatch_size\u001b[0m\u001b[0;34m)\u001b[0m\u001b[0;34m\u001b[0m\u001b[0;34m\u001b[0m\u001b[0m\n\u001b[1;32m    114\u001b[0m     \u001b[0mX1\u001b[0m \u001b[0;34m=\u001b[0m \u001b[0mnp\u001b[0m\u001b[0;34m.\u001b[0m\u001b[0masarray\u001b[0m\u001b[0;34m(\u001b[0m\u001b[0;34m[\u001b[0m \u001b[0mextract_features\u001b[0m\u001b[0;34m(\u001b[0m\u001b[0mimg_patches\u001b[0m\u001b[0;34m[\u001b[0m\u001b[0mi\u001b[0m\u001b[0;34m]\u001b[0m\u001b[0;34m)\u001b[0m \u001b[0;32mfor\u001b[0m \u001b[0mi\u001b[0m \u001b[0;32min\u001b[0m \u001b[0mrange\u001b[0m\u001b[0;34m(\u001b[0m\u001b[0mlen\u001b[0m\u001b[0;34m(\u001b[0m\u001b[0mimg_patches\u001b[0m\u001b[0;34m)\u001b[0m\u001b[0;34m)\u001b[0m\u001b[0;34m]\u001b[0m\u001b[0;34m)\u001b[0m \u001b[0;31m# dim 6\u001b[0m\u001b[0;34m\u001b[0m\u001b[0;34m\u001b[0m\u001b[0m\n",
      "\u001b[0;32m~/Documents/EPFL/MA1/Machine Learning/Projet 2/ML_Project2_Road/MachineLearning/src/utilities/utility_functions.py\u001b[0m in \u001b[0;36mload_image\u001b[0;34m(infilename)\u001b[0m\n\u001b[1;32m     17\u001b[0m \u001b[0;34m\u001b[0m\u001b[0m\n\u001b[1;32m     18\u001b[0m \u001b[0;32mdef\u001b[0m \u001b[0mload_image\u001b[0m\u001b[0;34m(\u001b[0m\u001b[0minfilename\u001b[0m\u001b[0;34m)\u001b[0m\u001b[0;34m:\u001b[0m\u001b[0;34m\u001b[0m\u001b[0;34m\u001b[0m\u001b[0m\n\u001b[0;32m---> 19\u001b[0;31m     \u001b[0mdata\u001b[0m \u001b[0;34m=\u001b[0m \u001b[0mmpimg\u001b[0m\u001b[0;34m.\u001b[0m\u001b[0mimread\u001b[0m\u001b[0;34m(\u001b[0m\u001b[0minfilename\u001b[0m\u001b[0;34m)\u001b[0m\u001b[0;34m\u001b[0m\u001b[0;34m\u001b[0m\u001b[0m\n\u001b[0m\u001b[1;32m     20\u001b[0m     \u001b[0;32mreturn\u001b[0m \u001b[0mdata\u001b[0m\u001b[0;34m\u001b[0m\u001b[0;34m\u001b[0m\u001b[0m\n\u001b[1;32m     21\u001b[0m \u001b[0;34m\u001b[0m\u001b[0m\n",
      "\u001b[0;32m/opt/anaconda3/lib/python3.7/site-packages/matplotlib/image.py\u001b[0m in \u001b[0;36mimread\u001b[0;34m(fname, format)\u001b[0m\n\u001b[1;32m   1431\u001b[0m             \u001b[0;32mreturn\u001b[0m \u001b[0mhandler\u001b[0m\u001b[0;34m(\u001b[0m\u001b[0mfd\u001b[0m\u001b[0;34m)\u001b[0m\u001b[0;34m\u001b[0m\u001b[0;34m\u001b[0m\u001b[0m\n\u001b[1;32m   1432\u001b[0m         \u001b[0;32melse\u001b[0m\u001b[0;34m:\u001b[0m\u001b[0;34m\u001b[0m\u001b[0;34m\u001b[0m\u001b[0m\n\u001b[0;32m-> 1433\u001b[0;31m             \u001b[0;32mwith\u001b[0m \u001b[0mopen\u001b[0m\u001b[0;34m(\u001b[0m\u001b[0mfname\u001b[0m\u001b[0;34m,\u001b[0m \u001b[0;34m'rb'\u001b[0m\u001b[0;34m)\u001b[0m \u001b[0;32mas\u001b[0m \u001b[0mfd\u001b[0m\u001b[0;34m:\u001b[0m\u001b[0;34m\u001b[0m\u001b[0;34m\u001b[0m\u001b[0m\n\u001b[0m\u001b[1;32m   1434\u001b[0m                 \u001b[0;32mreturn\u001b[0m \u001b[0mhandler\u001b[0m\u001b[0;34m(\u001b[0m\u001b[0mfd\u001b[0m\u001b[0;34m)\u001b[0m\u001b[0;34m\u001b[0m\u001b[0;34m\u001b[0m\u001b[0m\n\u001b[1;32m   1435\u001b[0m     \u001b[0;32melse\u001b[0m\u001b[0;34m:\u001b[0m\u001b[0;34m\u001b[0m\u001b[0;34m\u001b[0m\u001b[0m\n",
      "\u001b[0;31mFileNotFoundError\u001b[0m: [Errno 2] No such file or directory: '../../Datasets/test_set_images/test_9/satImage_092.png'"
     ]
    }
   ],
   "source": [
    "#TODO: pour vérifier resultats\n",
    "img_idx = 12\n",
    "\n",
    "Xi = extract_img_features(image_dir + files[img_idx],patch_size)\n",
    "Zi = clf.predict(Xi)\n",
    "plt.scatter(Xi[:, 1], Xi[:, 10], c=Zi, edgecolors='k', cmap=plt.cm.Paired)"
   ]
  },
  {
   "cell_type": "code",
   "execution_count": null,
   "metadata": {},
   "outputs": [],
   "source": [
    "w = gt_imgs[img_idx].shape[0]\n",
    "h = gt_imgs[img_idx].shape[1]\n",
    "predicted_im = label_to_img(w, h, patch_size, patch_size, Zi)\n",
    "cimg = concatenate_images(imgs[img_idx], predicted_im)\n",
    "fig1 = plt.figure(figsize=(10, 10)) # create a figure with the default size \n",
    "plt.imshow(cimg, cmap='Greys_r')\n",
    "\n",
    "new_img = make_img_overlay(imgs[img_idx], predicted_im)\n",
    "\n",
    "plt.imshow(new_img)"
   ]
  },
  {
   "cell_type": "markdown",
   "metadata": {},
   "source": [
    "## Submission"
   ]
  },
  {
   "cell_type": "code",
   "execution_count": null,
   "metadata": {},
   "outputs": [],
   "source": [
    "n = 4 # Only use 10 images for test\n",
    "patch_size = 16  # each patch is 16*16 pixels\n",
    "\n",
    "img_patches = [img_crop(imgs[i], patch_size, patch_size) for i in range(n)]\n",
    "# Linearize list of patches\n",
    "img_patches = np.asarray([img_patches[i][j] for i in range(len(img_patches)) for j in range(len(img_patches[i]))])"
   ]
  },
  {
   "cell_type": "code",
   "execution_count": null,
   "metadata": {},
   "outputs": [],
   "source": [
    "#TODO: make feature mat from test_set data and make predictions and then the csv"
   ]
  },
  {
   "cell_type": "markdown",
   "metadata": {},
   "source": [
    "# Experimental features"
   ]
  },
  {
   "cell_type": "code",
   "execution_count": null,
   "metadata": {},
   "outputs": [],
   "source": [
    "#important feature detection (corners)\n",
    "from skimage.feature import CENSURE\n",
    "from skimage.color import rgb2gray\n",
    "\n",
    "def corner_detection(image):\n",
    "    image = image.astype('double')\n",
    "    img_orig = rgb2gray(image)\n",
    "    detector = CENSURE(min_scale=1,max_scale=3,mode='STAR',non_max_threshold=0.1,line_threshold=100)\n",
    "    detector.detect(img_orig)\n",
    "\n",
    "    feat_x = detector.keypoints[:, 0]\n",
    "    feat_y = detector.keypoints[:, 1]\n",
    "  \n",
    "    unique_val, counts = np.unique(feat_x, return_counts=True)\n",
    "    feat_x = unique_val[np.where(counts > 3)]\n",
    "    unique_val, counts = np.unique(feat_y, return_counts=True)\n",
    "    feat_y = unique_val[np.where(counts > 3)]\n",
    "    print(feat_x)\n",
    "    \n",
    "    plt.hist(feat_x, bins=20)\n",
    "    plt.show()\n",
    "    plt.hist(feat_y, bins=20)\n",
    "    plt.show()\n",
    "    \n",
    "    plt.hist(np.convolve(feat_x, np.ones(10), mode='full'))\n",
    "    plt.show()\n",
    "    \n",
    "    plt.title('CENSURE feature detection')\n",
    "    plt.imshow(img_orig)\n",
    "    plt.scatter(detector.keypoints[:, 1], detector.keypoints[:, 0],\n",
    "            2 ** detector.scales, facecolors='none', edgecolors='r')\n",
    "    \n",
    "corner_detection(imgs[6])\n",
    "plt.imshow(gt_imgs[6])"
   ]
  },
  {
   "cell_type": "code",
   "execution_count": null,
   "metadata": {},
   "outputs": [],
   "source": [
    "#line detection\n",
    "#TODO: transformer ca en feature\n",
    "def proba_hough_tranform(img):\n",
    "    img = img_float_to_uint8(img)\n",
    "    gray = cv2.cvtColor(img,cv2.COLOR_BGR2GRAY)\n",
    "    #edges = cv2.Canny(gray,50,150,apertureSize = 3)\n",
    "    edges = ndimage.gaussian_laplace(gray, sigma=2.5)\n",
    "    features = np.zeros_like(2*img.shape[0])\n",
    "    \n",
    "    #plt.imshow(edges)\n",
    "    #plt.show()\n",
    "    minLineLength = 100\n",
    "    maxLineGap = 120\n",
    "    lines = cv2.HoughLinesP(edges,0.01,np.pi/360,100,minLineLength,maxLineGap)\n",
    "    for i in range(len(lines)):\n",
    "        #print(lines[i])\n",
    "        for x1,y1,x2,y2 in lines[i]:\n",
    "            cv2.line(img,(x1,y1),(x2,y2),(0,255,0),2)\n",
    "            \n",
    "    #cv2.imwrite('houghlines5.jpg',img)\n",
    "    plt.imshow(img)\n",
    "    plt.show()\n",
    "    \n",
    "    return features\n",
    "   \n",
    "proba_hough_tranform(imgs[3])\n",
    "plt.imshow(gt_imgs[3])"
   ]
  }
 ],
 "metadata": {
  "kernelspec": {
   "display_name": "Python 3",
   "language": "python",
   "name": "python3"
  },
  "language_info": {
   "codemirror_mode": {
    "name": "ipython",
    "version": 3
   },
   "file_extension": ".py",
   "mimetype": "text/x-python",
   "name": "python",
   "nbconvert_exporter": "python",
   "pygments_lexer": "ipython3",
   "version": "3.7.4"
  }
 },
 "nbformat": 4,
 "nbformat_minor": 2
}
